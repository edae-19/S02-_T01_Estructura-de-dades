{
 "cells": [
  {
   "cell_type": "markdown",
   "metadata": {},
   "source": [
    "# SO2 T01 : Estructura de datos\n",
    "\n",
    "#### David Arroyo\n",
    "##### Objetivos:\n",
    "\n",
    "* Familiarizarse con las estructuras de datos de Python\n",
    "* Diferenciar los tipos de estructuras de datos y las maneras de operar con ellas\n",
    "* Entender las limitaciones, usos y ventajas de cada una de las estructuras de datos"
   ]
  },
  {
   "cell_type": "markdown",
   "metadata": {},
   "source": [
    "### EJERCICIO 1"
   ]
  },
  {
   "cell_type": "code",
   "execution_count": 1,
   "metadata": {},
   "outputs": [],
   "source": [
    "# Lista con los meses del año divididos por trimestres\n",
    "\n",
    "monthOfTheYear = [[\"Enero\", \"Febrero\", \"Marzo\"], \n",
    "                  [\"Abril\", \"Mayo\", \"Junio\"], \n",
    "                  [\"Julio\", \"Agosto\", \"Septiembre\"], \n",
    "                  [\"Octubre\", \"Noviembre\", \"Diciembre\"]]\n"
   ]
  },
  {
   "cell_type": "markdown",
   "metadata": {},
   "source": [
    "### EJERCICIO 2"
   ]
  },
  {
   "cell_type": "code",
   "execution_count": 2,
   "metadata": {},
   "outputs": [
    {
     "name": "stdout",
     "output_type": "stream",
     "text": [
      "Febrero\n"
     ]
    }
   ],
   "source": [
    "# Segundo mes del primer trimestre\n",
    "\n",
    "quarter = 1\n",
    "monthOfQuarter = 2\n",
    "\n",
    "month = monthOfTheYear [quarter-1][monthOfQuarter-1]\n",
    "print (month)"
   ]
  },
  {
   "cell_type": "code",
   "execution_count": 3,
   "metadata": {},
   "outputs": [
    {
     "name": "stdout",
     "output_type": "stream",
     "text": [
      "['Enero', 'Febrero', 'Marzo']\n"
     ]
    }
   ],
   "source": [
    "# Meses del primer trimestre\n",
    "\n",
    "quarter = 1\n",
    "\n",
    "months = monthOfTheYear [quarter-1]\n",
    "print (months)"
   ]
  },
  {
   "cell_type": "code",
   "execution_count": 4,
   "metadata": {},
   "outputs": [
    {
     "name": "stdout",
     "output_type": "stream",
     "text": [
      "Septiembre\n"
     ]
    }
   ],
   "source": [
    "# Septiembre\n",
    "\n",
    "quarter = 3\n",
    "monthOfQuarter = 3\n",
    "\n",
    "septembre = monthOfTheYear [quarter-1][monthOfQuarter-1]\n",
    "print (septembre)"
   ]
  },
  {
   "cell_type": "code",
   "execution_count": 5,
   "metadata": {},
   "outputs": [
    {
     "name": "stdout",
     "output_type": "stream",
     "text": [
      "Octubre\n"
     ]
    }
   ],
   "source": [
    "#Octubre\n",
    "\n",
    "quarter = 4\n",
    "monthOfQuarter = 1\n",
    "\n",
    "octobre = monthOfTheYear [quarter-1][monthOfQuarter-1]\n",
    "print (octobre)"
   ]
  },
  {
   "cell_type": "markdown",
   "metadata": {},
   "source": [
    "### EJERCICIO 3"
   ]
  },
  {
   "cell_type": "code",
   "execution_count": 6,
   "metadata": {},
   "outputs": [],
   "source": [
    "numbers = [1, 9, 3, 15, 15, 18, 28, 3659, 14, 3, 8, 15, 17, 25, 4 , 0, 4, 4]"
   ]
  },
  {
   "cell_type": "code",
   "execution_count": 7,
   "metadata": {},
   "outputs": [
    {
     "name": "stdout",
     "output_type": "stream",
     "text": [
      "Hay 18 números en la lista\n"
     ]
    }
   ],
   "source": [
    "# Cantidad de numeros en la lista\n",
    "\n",
    "numbersQuantity = len (numbers)\n",
    "print (\"Hay {} números en la lista\".format(numbersQuantity))"
   ]
  },
  {
   "cell_type": "code",
   "execution_count": 8,
   "metadata": {},
   "outputs": [
    {
     "name": "stdout",
     "output_type": "stream",
     "text": [
      "El numero 3 aparece 2 veces en el listado\n"
     ]
    }
   ],
   "source": [
    "# Cantidad de veces que se repite el 3\n",
    "\n",
    "times3InNumbers = numbers.count(3)\n",
    "print (\"El numero 3 aparece {} veces en el listado\".format(times3InNumbers))"
   ]
  },
  {
   "cell_type": "code",
   "execution_count": 9,
   "metadata": {},
   "outputs": [
    {
     "name": "stdout",
     "output_type": "stream",
     "text": [
      "El numero 3 aparece 2 veces en el listado \n",
      "El número 4 aparece 3 veces en el listado\n"
     ]
    }
   ],
   "source": [
    "# Cantidad de veces que se repite el 3 y el 4\n",
    "\n",
    "times4InNumbers = numbers.count(4)\n",
    "print (\"El numero 3 aparece {} veces en el listado \\nEl número 4 aparece {} veces en el listado\".format(times3InNumbers,times4InNumbers))"
   ]
  },
  {
   "cell_type": "code",
   "execution_count": 10,
   "metadata": {},
   "outputs": [
    {
     "name": "stdout",
     "output_type": "stream",
     "text": [
      "El número mas alto de la lista es el 3659\n"
     ]
    }
   ],
   "source": [
    "# Valor mas alto en la lista\n",
    "\n",
    "maxValue = max(numbers)\n",
    "print (\"El número mas alto de la lista es el {}\".format(maxValue))"
   ]
  },
  {
   "cell_type": "code",
   "execution_count": 11,
   "metadata": {},
   "outputs": [
    {
     "name": "stdout",
     "output_type": "stream",
     "text": [
      "Los 3 numeros mas pequeños del listado son: [0, 1, 3]\n"
     ]
    }
   ],
   "source": [
    "# 3 valores mas pequeños\n",
    "\n",
    "minValues = sorted (numbers)[:3]\n",
    "print (\"Los 3 numeros mas pequeños del listado son: {}\".format(minValues))"
   ]
  },
  {
   "cell_type": "code",
   "execution_count": 12,
   "metadata": {},
   "outputs": [
    {
     "name": "stdout",
     "output_type": "stream",
     "text": [
      "El rango de la lista es el siguiente:\n",
      "[0, 1, 2, 3, 4, 5, 6, 7, 8, 9, 10, 11, 12, 13, 14, 15, 16, 17]\n"
     ]
    }
   ],
   "source": [
    "# Rango de la lista\n",
    "\n",
    "rangeList = [*range (len (numbers))]\n",
    "print (\"El rango de la lista es el siguiente:\\n{}\".format(rangeList))"
   ]
  },
  {
   "cell_type": "markdown",
   "metadata": {},
   "source": [
    "### EJERCICIO 4"
   ]
  },
  {
   "cell_type": "code",
   "execution_count": 13,
   "metadata": {},
   "outputs": [],
   "source": [
    "# Listado de compras\n",
    "\n",
    "compra = {\"Pomes\" : {\"Qty\": 5, \"€\": 0.42}, \"Peres\" : {\"Qty\": 3, \"€\": 0.66} }"
   ]
  },
  {
   "cell_type": "code",
   "execution_count": 14,
   "metadata": {},
   "outputs": [],
   "source": [
    "# Agregar nueva fruta\n",
    "\n",
    "compra [\"Tronja\"] = {\"Qty\": 6, \"€\": 0.74}\n"
   ]
  },
  {
   "cell_type": "code",
   "execution_count": 15,
   "metadata": {},
   "outputs": [
    {
     "name": "stdout",
     "output_type": "stream",
     "text": [
      "Todas las peras han costado 1.98€\n"
     ]
    }
   ],
   "source": [
    "# Cuanto han costado en total las peras\n",
    "\n",
    "peresCost = compra [\"Peres\"][\"Qty\"] * compra [\"Peres\"][\"€\"]\n",
    "\n",
    "print (\"Todas las peras han costado {}€\".format(peresCost))"
   ]
  },
  {
   "cell_type": "code",
   "execution_count": 16,
   "metadata": {},
   "outputs": [
    {
     "name": "stdout",
     "output_type": "stream",
     "text": [
      "En total se compraron 14 unidades de frutas\n"
     ]
    }
   ],
   "source": [
    "# Cuantas frutas se han comprado en total\n",
    "\n",
    "fruits = 0\n",
    "\n",
    "for key in compra:\n",
    "    fruits += compra [key][\"Qty\"]\n",
    "\n",
    "print (\"En total se compraron {} unidades de frutas\".format(fruits))"
   ]
  },
  {
   "cell_type": "code",
   "execution_count": 17,
   "metadata": {},
   "outputs": [
    {
     "name": "stdout",
     "output_type": "stream",
     "text": [
      "La fruta mas cara es Tronja con un costo de 0.74€ por unidad\n"
     ]
    }
   ],
   "source": [
    "# Fruta mas cara\n",
    "\n",
    "higherPrice = 0\n",
    "\n",
    "for key in compra:\n",
    "    if compra [key][\"€\"] > higherPrice:\n",
    "        higherPrice = compra [key][\"€\"]\n",
    "        higherPriceFruit = key\n",
    "\n",
    "print (\"La fruta mas cara es {} con un costo de {}€ por unidad\".format(higherPriceFruit, higherPrice))   \n",
    "    "
   ]
  },
  {
   "cell_type": "code",
   "execution_count": null,
   "metadata": {},
   "outputs": [],
   "source": []
  }
 ],
 "metadata": {
  "kernelspec": {
   "display_name": "Python 3",
   "language": "python",
   "name": "python3"
  },
  "language_info": {
   "codemirror_mode": {
    "name": "ipython",
    "version": 3
   },
   "file_extension": ".py",
   "mimetype": "text/x-python",
   "name": "python",
   "nbconvert_exporter": "python",
   "pygments_lexer": "ipython3",
   "version": "3.8.3"
  }
 },
 "nbformat": 4,
 "nbformat_minor": 4
}
